{
 "cells": [
  {
   "cell_type": "code",
   "execution_count": 2,
   "id": "bb43dcaf-b52c-4bf8-993b-9baaf591c638",
   "metadata": {},
   "outputs": [
    {
     "name": "stdin",
     "output_type": "stream",
     "text": [
      " hello world\n"
     ]
    },
    {
     "name": "stdout",
     "output_type": "stream",
     "text": [
      "hello world\n",
      "11\n"
     ]
    }
   ],
   "source": [
    "a= input()\n",
    "b=len(a)\n",
    "print(a)\n",
    "print(b)\n"
   ]
  },
  {
   "cell_type": "code",
   "execution_count": 7,
   "id": "f4853688-e0c9-41b4-85c2-1ea3bbb3176c",
   "metadata": {},
   "outputs": [
    {
     "name": "stdin",
     "output_type": "stream",
     "text": [
      "Enter a sentence:  hai myb name is Rushyanth NereLLAKUNTA\n"
     ]
    },
    {
     "name": "stdout",
     "output_type": "stream",
     "text": [
      "Number of vowels in the sentence: 12\n"
     ]
    }
   ],
   "source": [
    "vowels = ['a','e','i','o','u']\n",
    "sentence = input(\"Enter a sentence: \")\n",
    "count = 0\n",
    "for letter in sentence.lower():\n",
    "    if letter in vowels:\n",
    "        count += 1\n",
    "print(\"Number of vowels in the sentence:\", count)\n",
    "\n",
    "\n"
   ]
  },
  {
   "cell_type": "code",
   "execution_count": 14,
   "id": "9d6573c6-fd29-490f-9766-2d1e666b3140",
   "metadata": {},
   "outputs": [
    {
     "name": "stdin",
     "output_type": "stream",
     "text": [
      "enter a string:  this is a good practicce\n"
     ]
    },
    {
     "name": "stdout",
     "output_type": "stream",
     "text": [
      "the reverse of the string is:  eccitcarp doog a si siht\n"
     ]
    }
   ],
   "source": [
    "string = input(\"enter a string: \")\n",
    "rev_string = string[::-1]\n",
    "print('the reverse of the string is: ', rev_string)"
   ]
  },
  {
   "cell_type": "code",
   "execution_count": 16,
   "id": "85c11a36-54a7-4400-b024-298af32e12a7",
   "metadata": {},
   "outputs": [
    {
     "name": "stdin",
     "output_type": "stream",
     "text": [
      "enter a string:  hah\n"
     ]
    },
    {
     "name": "stdout",
     "output_type": "stream",
     "text": [
      "the given string is a palindrome\n"
     ]
    }
   ],
   "source": [
    "str1 = input(\"enter a string: \")\n",
    "str2 = str1[::-1]\n",
    "if str1==str2:\n",
    "    print('the given string is a palindrome')\n",
    "else:\n",
    "    print('the given string is not a palindrome')"
   ]
  },
  {
   "cell_type": "code",
   "execution_count": 17,
   "id": "196b223a-0391-446b-b72c-cf4def1eab47",
   "metadata": {},
   "outputs": [
    {
     "name": "stdin",
     "output_type": "stream",
     "text": [
      "enter a string:  Hai i am a new student\n"
     ]
    },
    {
     "name": "stdout",
     "output_type": "stream",
     "text": [
      "string without spaces is :  Haiiamanewstudent\n"
     ]
    }
   ],
   "source": [
    "string = input('enter a string: ')\n",
    "string_without_spaces = string.replace(' ','')\n",
    "print('string without spaces is : ',string_without_spaces)"
   ]
  },
  {
   "cell_type": "code",
   "execution_count": null,
   "id": "313d7566-64e5-4f59-8523-b96203a320aa",
   "metadata": {},
   "outputs": [],
   "source": []
  }
 ],
 "metadata": {
  "kernelspec": {
   "display_name": "Python 3 (ipykernel)",
   "language": "python",
   "name": "python3"
  },
  "language_info": {
   "codemirror_mode": {
    "name": "ipython",
    "version": 3
   },
   "file_extension": ".py",
   "mimetype": "text/x-python",
   "name": "python",
   "nbconvert_exporter": "python",
   "pygments_lexer": "ipython3",
   "version": "3.10.8"
  }
 },
 "nbformat": 4,
 "nbformat_minor": 5
}
